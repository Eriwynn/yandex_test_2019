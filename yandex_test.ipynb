{
 "cells": [
  {
   "cell_type": "markdown",
   "metadata": {},
   "source": [
    "## Задача 1\n",
    "Сервис Яндекс.Еда привлекает новых клиентов в том числе с помощью скидок. При этом для повышения экономической эффективности необходимо отслеживать основные метрики по скидкам. Напишите код, который отвечает на следующие вопросы (можно использовать SQL или Python)\n",
    "- Какая доля заказов с промокодами?\n",
    "- Самый популярный (в метрике суммы скидки) промокод (название) и сумма скидки по нему?\n",
    "\n",
    "Данные, которые есть (для простоты в формате .txt, несколько первых строк): <br>\n",
    "<b>orders.txt</b> (если в заказе был промокод, то записываеся id промокода; если не было, то NULL) <br>\n",
    "<b>promocodes.txt</b> (discount – сумма скидки в рублях)"
   ]
  },
  {
   "cell_type": "code",
   "execution_count": 1,
   "metadata": {},
   "outputs": [],
   "source": [
    "######################################\n",
    "## Test data for debugging purposes ##\n",
    "######################################\n",
    "# import string\n",
    "# import random\n",
    "# import numpy as np\n",
    "# import pandas as pd\n",
    "# random.seed(7)\n",
    "\n",
    "# total_promocodes = 25\n",
    "# total_orders = 10000\n",
    "\n",
    "# promocodes = {\n",
    "#     \"promocode_id\": list(map(str, range(0, total_promocodes))), \n",
    "#     \"name\": list(string.ascii_lowercase)[0:total_promocodes],\n",
    "#     \"discount\": np.random.choice(np.linspace(10, 1000, num = 100), total_promocodes, replace = False)\n",
    "# }\n",
    "\n",
    "# orders = {\n",
    "#     \"order_id\": list(range(0, total_orders)),\n",
    "#     \"promocode_id\": np.random.choice(np.append(promocodes[\"promocode_id\"], \"NULL\"), total_orders, replace = True)\n",
    "# }\n",
    "\n",
    "# df_promo = pd.DataFrame(data = promocodes)\n",
    "# df_orders = pd.DataFrame(data = orders)"
   ]
  },
  {
   "cell_type": "code",
   "execution_count": 2,
   "metadata": {},
   "outputs": [],
   "source": [
    "## Initialization of libraries & data importing\n",
    "import numpy as np\n",
    "import pandas as pd\n",
    "\n",
    "df_orders = pd.read_csv(\"orders.txt\", sep = \",\")\n",
    "df_promo = pd.read_csv(\"promocodes.txt\", sep = \",\")"
   ]
  },
  {
   "cell_type": "code",
   "execution_count": 3,
   "metadata": {},
   "outputs": [
    {
     "name": "stdout",
     "output_type": "stream",
     "text": [
      "Share of orders with promo codes: 96.07%\n"
     ]
    }
   ],
   "source": [
    "## Creating general Data Frame with promo codes and orders information via left join\n",
    "df_total = pd.merge(df_orders, df_promo, on = \"promocode_id\", how = \"left\")\n",
    "\n",
    "## Cutting of NULL promocodes since we don't need them\n",
    "null_share = df_total[df_total[\"promocode_id\"] == \"NULL\"].agg(\"count\")[\"order_id\"]\n",
    "\n",
    "print(\n",
    "    \"Share of orders with promo codes:\", \n",
    "    str((1 - null_share/df_total.shape[0])*100) + \"%\"\n",
    ")\n",
    "\n",
    "## I believe there could be an optimization in counting ONLY NULL orders \n",
    "## But this would work only if total share of people using promo codes dominates over those who don't"
   ]
  },
  {
   "cell_type": "code",
   "execution_count": 4,
   "metadata": {},
   "outputs": [
    {
     "name": "stdout",
     "output_type": "stream",
     "text": [
      "The most popular promo code (by total saves) is: p \n",
      "With 373100 total saves\n"
     ]
    }
   ],
   "source": [
    "## Aggregating df_total with sum of discount and left-joining promo codes to acquire name of the most efficient code\n",
    "discounts = pd.merge(\n",
    "    df_total.groupby(\"promocode_id\")[\"discount\"].agg(\"sum\"), \n",
    "    df_promo.drop(\"discount\", axis = 1), \n",
    "    on = \"promocode_id\", how = \"left\"\n",
    ")\n",
    "\n",
    "print(\n",
    "    \"The most popular promo code (by total saves) is:\",\n",
    "    discounts.loc[discounts[\"discount\"].idxmax()][\"name\"],\n",
    "    \"\\nWith\", int(discounts[\"discount\"].max()), \"total saves\"\n",
    ")\n",
    "\n",
    "## There is probably an easier way to manipulate data since we DO have promo code names in df_total\n",
    "## But, unfortunatelly pandas.DataFrame.agg documentations is showing only basic functionality\n",
    "## Not the best example of using python/pandas data structures, but I tried ¯\\_(ツ)_/¯"
   ]
  },
  {
   "cell_type": "markdown",
   "metadata": {},
   "source": [
    "## Задача 2\n",
    "Яндекс.Еда осуществляет доставку еды из ресторанов. При этом у каждого ресторана есть зона, в рамках которой осуществляется доставка. Зона представляет собой полигон из координат. Пользователь в зависимости от своей координаты видит разное количество доступных ресторанов. Нам важно, чтобы у каждого пользователя было достаточное количество ресторанов для выбора. Задача заключается в том, чтобы по каждой координате пользователя посчитать доступное ему количество ресторанов. Можно использовать SQL или Python.\n",
    "\n",
    "Данные, которые есть (для простоты в формате .txt, несколько первых строк): <br>\n",
    "<b>user_coordinates.txt</b> (примерно 300 тыс строк, user_id – идентификатор пользователя) <br>\n",
    "<b>place_zone_coordinates</b> (примерно 500 тыс строк, place_id – идентификатор ресторана, point_number – порядковый номер точки в зоне доставки ресторана) "
   ]
  },
  {
   "cell_type": "markdown",
   "metadata": {},
   "source": [
    "## Небольшая ремарка\n",
    "Как аналитик, я сперва начал решать задачу, но как математик, задумался, что является полигоном и как его можно построить, и тут вот какое дело. \n",
    "По 4 точкам на плоскости, строго говоря, можно построить несколько **разных** фигур, причем множество может получиться, как выпуклым, так и невыпуклым. Если с выпуклыми многоугольниками всё понятно и, в общем случае, по 4 точкам можно построить одну и только одну фигуру, то в случае невыпуклого многоугольника, количество вариантов уже не равно единице. Из-за недостатка вводных данных по place_zone_coordinates данным я попытался решить задачу для фигуры, ограниченной n-точками, которые не упорядочены, чего у меня, в общем виде, сделать не получилось.\n",
    "\n",
    "К сожалению, я не сразу заметил, что в 4 случайно брошенных точках на плоскости точках, количество невыпуклых многоугольников, которые можно построить > 1, поэтому искал решение через поиск наибольшей выпуклой оболочки в множестве точек, используя метод scipy.spatial.ConvexHull и количества пересечений прямых лучом, выходящим из точки. \n",
    "\n"
   ]
  },
  {
   "cell_type": "code",
   "execution_count": 5,
   "metadata": {},
   "outputs": [
    {
     "data": {
      "image/png": "[encoded data removed]",
      "text/plain": [
       "<Figure size 432x288 with 1 Axes>"
      ]
     },
     "metadata": {
      "needs_background": "light"
     },
     "output_type": "display_data"
    }
   ],
   "source": [
    "import matplotlib.pyplot as plt\n",
    "%matplotlib inline\n",
    "test_points = [[55.747022, 55.751713, 55.751031, 55.753878], [37.787073, 37.784328, 37.779351, 37.777638]]\n",
    "\n",
    "for i in range(0, 4):\n",
    "    plt.plot(test_points[0][i:i+2], test_points[1][i:i+2], 'ro-')\n",
    "plt.plot([test_points[0][3], test_points[0][0]], [test_points[1][3], test_points[1][0]], 'ro-')\n",
    "plt.show()"
   ]
  },
  {
   "cell_type": "markdown",
   "metadata": {},
   "source": [
    "Так как нигде не указано, что количество точек многоугольника строго равно четырём, точки строго упорядочены и определяют некоторую фигуру, можно придумать такой пример из n-точек, который будет иметь \"дыры\" внутри области, а так как достаточно много всего было написано под решение СЛАУ и нахождение точки пересечения двух отрезков (если таковая существует), переписывать полностью задачу под вычисление количества оборотов вокруг точки времени не осталось :(\n",
    "\n",
    "Поэтому, сразу оговариваю, что следующий код работает только для **строго упорядоченных** данных, в которых фигуры ограничены 4 точками, и отрезки, ограничивающие фигуры, соединяются по порядковым номерам (замыкаясь к начальной точке в самом конце). Реализован алгоритм количества пересечений луча в случайном направлении."
   ]
  },
  {
   "cell_type": "code",
   "execution_count": 6,
   "metadata": {},
   "outputs": [],
   "source": [
    "######################################\n",
    "## Test data for debugging purposes ##\n",
    "######################################\n",
    "# import random\n",
    "# random.seed(7)\n",
    "\n",
    "# def create_zone(point, total):\n",
    "#     zone = pd.DataFrame({\n",
    "#         \"place_id\": list(range(0, total)),\n",
    "#         \"loc_lat\": np.random.normal(0, 1, total),\n",
    "#         \"loc_lon\": np.random.normal(0, 1, total),\n",
    "#         \"point_number\": point\n",
    "#     })\n",
    "#     return(zone)\n",
    "\n",
    "# total_users = 100\n",
    "# total_zones = 100\n",
    "\n",
    "# df_users = pd.DataFrame({\n",
    "#     \"user_id\": list(range(0, total_users)), \n",
    "#     \"loc_lat\": np.random.normal(0, 1, total_users),\n",
    "#     \"loc_lon\": np.random.normal(0, 1, total_users)\n",
    "# })\n",
    "\n",
    "# df_zones = pd.concat([\n",
    "#     create_zone(0, total_zones),\n",
    "#     create_zone(1, total_zones),\n",
    "#     create_zone(2, total_zones),\n",
    "#     create_zone(3, total_zones)\n",
    "# ])"
   ]
  },
  {
   "cell_type": "code",
   "execution_count": 7,
   "metadata": {},
   "outputs": [],
   "source": [
    "import matplotlib.pyplot as plt\n",
    "\n",
    "## This functions finds an intersection of the lines \n",
    "## The idea of the method is to find an intersection of lines (if one exists)\n",
    "## by solving system of linear equations via Cramer's rule \n",
    "def lines_intersection(points):\n",
    "    A = np.array([points[0][0], points[0][1]])\n",
    "    B = np.array([points[1][0], points[1][1]])\n",
    "    C = np.array([points[2][0], points[2][1]])\n",
    "    D = np.array([points[3][0], points[3][1]])\n",
    "    \n",
    "    def line_params(A, B):\n",
    "        return(\n",
    "            np.array([\n",
    "                A[1] - B[1],\n",
    "                B[0] - A[0],\n",
    "                - A[0]*B[1] + B[0]*A[1]\n",
    "            ])\n",
    "        )\n",
    "    \n",
    "    ## Getting the parameters of the lines equations\n",
    "    equation_1 = line_params(A, B)\n",
    "    equation_2 = line_params(C, D)\n",
    "    \n",
    "    D = np.linalg.det(np.array([\n",
    "        [equation_1[0], equation_1[1]],\n",
    "        [equation_2[0], equation_2[1]]\n",
    "    ]))\n",
    "    \n",
    "    ## If matrix is singular than two lines are parallel and thus having no intersection\n",
    "    if D == 0:\n",
    "        print(\"Determinant is equal 0, lines are parallel\")\n",
    "        return(False)\n",
    "    \n",
    "    D_x = np.linalg.det(np.array([\n",
    "        [equation_1[2], equation_1[1]],\n",
    "        [equation_2[2], equation_2[1]]\n",
    "    ]))\n",
    "    D_y = np.linalg.det(np.array([\n",
    "        [equation_1[0], equation_1[2]],\n",
    "        [equation_2[0], equation_2[2]]\n",
    "    ]))\n",
    "    \n",
    "    intersection_point = np.array([D_x/D, D_y/D])\n",
    "    \n",
    "    ## Checking if the intersection point actually lies between two given points \n",
    "    ## If not, the intersection is further than we need to \n",
    "    if (A[0] <= intersection_point[0] <= B[0]) & (A[1] <= intersection_point[1] <= B[1]):\n",
    "        # print(\"Success!\")\n",
    "        return(True)\n",
    "    else: \n",
    "        # print(\"There is no intersection\")\n",
    "        return(False)\n",
    "    \n",
    "## Printing plot of area and user location (without lines)\n",
    "def print_plot(zone, user_line):\n",
    "    for index, row in zone.iterrows():\n",
    "        plt.plot(row[\"loc_lat\"], row[\"loc_lon\"], \"ro\")\n",
    "    plt.plot(user_line[0][0], user_line[0][1], \".\")\n",
    "    plt.show()\n",
    "    return()\n",
    "\n",
    "## Checking if user is in zone\n",
    "def in_zone(zone, user_line):\n",
    "    points = []\n",
    "    for index, row in zone.iterrows():\n",
    "        points.append([row[\"loc_lat\"], row[\"loc_lon\"]])\n",
    "    points.append(points[0])\n",
    "    \n",
    "    total_intersections = 0\n",
    "    for i in range(0, len(points)-1):\n",
    "        system = [points[i], points[i+1], user_line[0], user_line[1]]\n",
    "        total_intersections += lines_intersection(system)\n",
    "    if (total_intersections % 2) == 0:\n",
    "        return(False)\n",
    "    else:\n",
    "        return(True)"
   ]
  },
  {
   "cell_type": "code",
   "execution_count": 8,
   "metadata": {},
   "outputs": [],
   "source": [
    "#df_users = pd.read_csv(\"user_coordinates.txt\", sep = \",\")\n",
    "#df_zones = pd.read_csv(\"place_zone_coordinates.txt\", sep = \",\")\n",
    "\n",
    "#### Main work\n",
    "df_zones.sort_values(by = [\"place_id\", \"point_number\"])\n",
    "faraway = [9999, 9999]\n",
    "\n",
    "total_restaurants = []\n",
    "for index, user in df_users.iterrows():\n",
    "    user_line = [[user[\"loc_lat\"], user[\"loc_lon\"]], faraway]\n",
    "    \n",
    "    ## Cycle by zones \n",
    "    user_intersections = 0\n",
    "    for i in range(0, 100):\n",
    "        zone = df_zones[df_zones[\"place_id\"] == i]\n",
    "        zone_result = in_zone(zone, user_line)\n",
    "        user_intersections += zone_result\n",
    "    \n",
    "    total_restaurants.append(user_intersections)"
   ]
  },
  {
   "cell_type": "code",
   "execution_count": 9,
   "metadata": {},
   "outputs": [
    {
     "data": {
      "text/html": [
       "<div>\n",
       "<style scoped>\n",
       "    .dataframe tbody tr th:only-of-type {\n",
       "        vertical-align: middle;\n",
       "    }\n",
       "\n",
       "    .dataframe tbody tr th {\n",
       "        vertical-align: top;\n",
       "    }\n",
       "\n",
       "    .dataframe thead th {\n",
       "        text-align: right;\n",
       "    }\n",
       "</style>\n",
       "<table border=\"1\" class=\"dataframe\">\n",
       "  <thead>\n",
       "    <tr style=\"text-align: right;\">\n",
       "      <th></th>\n",
       "      <th>user_id</th>\n",
       "      <th>number_of_places_available</th>\n",
       "    </tr>\n",
       "  </thead>\n",
       "  <tbody>\n",
       "    <tr>\n",
       "      <th>0</th>\n",
       "      <td>0</td>\n",
       "      <td>27</td>\n",
       "    </tr>\n",
       "    <tr>\n",
       "      <th>1</th>\n",
       "      <td>1</td>\n",
       "      <td>24</td>\n",
       "    </tr>\n",
       "    <tr>\n",
       "      <th>2</th>\n",
       "      <td>2</td>\n",
       "      <td>38</td>\n",
       "    </tr>\n",
       "    <tr>\n",
       "      <th>3</th>\n",
       "      <td>3</td>\n",
       "      <td>12</td>\n",
       "    </tr>\n",
       "    <tr>\n",
       "      <th>4</th>\n",
       "      <td>4</td>\n",
       "      <td>30</td>\n",
       "    </tr>\n",
       "  </tbody>\n",
       "</table>\n",
       "</div>"
      ],
      "text/plain": [
       "   user_id  number_of_places_available\n",
       "0        0                          27\n",
       "1        1                          24\n",
       "2        2                          38\n",
       "3        3                          12\n",
       "4        4                          30"
      ]
     },
     "execution_count": 9,
     "metadata": {},
     "output_type": "execute_result"
    }
   ],
   "source": [
    "df_users[\"number_of_places_available\"] = total_restaurants\n",
    "df_users.drop([\"loc_lat\", \"loc_lon\"], axis = 1).head()"
   ]
  },
  {
   "cell_type": "markdown",
   "metadata": {},
   "source": [
    "## Задача 3\n",
    "Мы в Яндекс.Еде любим поиграть в покер и настольные игры. Поэтому нам важно, чтобы будущие коллеги были сильны в математической статистике и теории вероятностей (так интереснее играть))) Если серьезно, то в большинстве аналитических задач у нас возникает необходимость применять математический аппарат в том или ином виде. Проще всего его проверить через учебные игровые задачи, чтобы не погружать в сложный контекст бизнеса.\n",
    "Вы подбрасываете кубик (6 граней), после чего у вас есть две возможности:\n",
    "1. Взять себе сумму \\\\$, равную выпавшему на кубике числу (выпало 3 – получаете 3\\\\$)\n",
    "2. Отклонить результат первого броска и подбросить кубик второй раз. После чего уже взять себе столько \\\\$, сколько выпало во второй раз (второй бросок отклонять уже нельзя)\n",
    "Какую стратегию нужно выбрать, чтобы максимизировать ожидаемую прибыль (при каких значениях первого броска нужно перебрасывать?)<br> \n",
    "Почему эта стратегия максимизирует прибыль? <br>\n",
    "Чему равна ожидаемая прибыль при этой стратегии (**математическое ожидание**)?\n"
   ]
  },
  {
   "cell_type": "markdown",
   "metadata": {},
   "source": [
    "## Решение\n",
    "Перекидывать стоит результаты первого броска кубика, в случае, если математическое ожидание броска кубика больше, чем полученный текущий результат.\n",
    "Математическое ожидание броска кубика = 3.5\n",
    "\n",
    "То есть, мы перекидываем кубик, только если выпали значения 1-3, таким образом математическое ожидание такой случайной величины = 4.25"
   ]
  }
 ],
 "metadata": {
  "kernelspec": {
   "display_name": "Python 3",
   "language": "python",
   "name": "python3"
  },
  "language_info": {
   "codemirror_mode": {
    "name": "ipython",
    "version": 3
   },
   "file_extension": ".py",
   "mimetype": "text/x-python",
   "name": "python",
   "nbconvert_exporter": "python",
   "pygments_lexer": "ipython3",
   "version": "3.7.3"
  }
 },
 "nbformat": 4,
 "nbformat_minor": 2
}
