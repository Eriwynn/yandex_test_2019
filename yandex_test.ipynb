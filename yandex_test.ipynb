{
 "cells": [
  {
   "cell_type": "code",
   "execution_count": 2,
   "metadata": {},
   "outputs": [],
   "source": [
    "######################################\n",
    "## Test data for debugging purposes ##\n",
    "######################################\n",
    "\n",
    "# import random\n",
    "# random.seed(7)\n",
    "\n",
    "# total_promocodes = 25\n",
    "# total_orders = 10000\n",
    "\n",
    "# promocodes = {\n",
    "#     \"promocode_id\": list(map(str, range(0, total_promocodes))), \n",
    "#     \"name\": list(string.ascii_lowercase)[0:total_promocodes],\n",
    "#     \"discount\": np.random.choice(np.linspace(10, 1000, num = 100), total_promocodes, replace = False)\n",
    "# }\n",
    "\n",
    "# orders = {\n",
    "#     \"order_id\": list(range(0, total_orders)),\n",
    "#     \"promocode_id\": np.random.choice(np.append(promocodes[\"promocode_id\"], \"NULL\"), total_orders, replace = True)\n",
    "# }\n",
    "\n",
    "# df_promo = pd.DataFrame(data = promocodes)\n",
    "# df_orders = pd.DataFrame(data = orders)"
   ]
  },
  {
   "cell_type": "markdown",
   "metadata": {},
   "source": [
    "## Задача 1\n",
    "Сервис Яндекс.Еда привлекает новых клиентов в том числе с помощью скидок. При этом для повышения экономической эффективности необходимо отслеживать основные метрики по скидкам. Напишите код, который отвечает на следующие вопросы (можно использовать SQL или Python)\n",
    "- Какая доля заказов с промокодами?\n",
    "- Самый популярный (в метрике суммы скидки) промокод (название) и сумма скидки по нему?\n",
    "\n",
    "Данные, которые есть (для простоты в формате .txt, несколько первых строк): <br>\n",
    "<b>orders.txt</b> (если в заказе был промокод, то записываеся id промокода; если не было, то NULL) <br>\n",
    "<b>promocodes.txt</b> (discount – сумма скидки в рублях)"
   ]
  },
  {
   "cell_type": "code",
   "execution_count": 1,
   "metadata": {},
   "outputs": [],
   "source": [
    "## Initialization of libraries & data importing\n",
    "import numpy as np\n",
    "import pandas as pd\n",
    "import string\n",
    "\n",
    "df_orders = pd.read_csv(\"orders.txt\", sep = \",\")\n",
    "df_promo = pd.read_csv(\"promocodes.txt\", sep = \",\")"
   ]
  },
  {
   "cell_type": "code",
   "execution_count": 4,
   "metadata": {},
   "outputs": [
    {
     "name": "stdout",
     "output_type": "stream",
     "text": [
      "Share of orders with promo codes: 96.17%\n"
     ]
    }
   ],
   "source": [
    "## Creating general Data Frame with promo codes and orders information via left join\n",
    "df_total = pd.merge(df_orders, df_promo, on = \"promocode_id\", how = \"left\")\n",
    "\n",
    "## Cutting of NULL promocodes since we don't need them\n",
    "null_share = df_total[df_total[\"promocode_id\"] == \"NULL\"].agg(\"count\")[\"order_id\"]\n",
    "\n",
    "print(\n",
    "    \"Share of orders with promo codes:\", \n",
    "    str((1 - null_share/df_total.shape[0])*100) + \"%\"\n",
    ")\n",
    "\n",
    "## I believe there could be an optimization in counting ONLY NULL orders \n",
    "## But this would work only if total share of people using promo codes dominates over those who don't"
   ]
  },
  {
   "cell_type": "code",
   "execution_count": 6,
   "metadata": {},
   "outputs": [
    {
     "name": "stdout",
     "output_type": "stream",
     "text": [
      "The most popular promo code (by total saves) is: l \n",
      "With 384560 total saves\n"
     ]
    }
   ],
   "source": [
    "## Aggregating df_total with sum of discount and left-joining promo codes to acquire name of the most efficient code\n",
    "discounts = pd.merge(\n",
    "    df_total.groupby(\"promocode_id\")[\"discount\"].agg(\"sum\"), \n",
    "    df_promo.drop(\"discount\", axis = 1), \n",
    "    on = \"promocode_id\", how = \"left\"\n",
    ")\n",
    "\n",
    "print(\n",
    "    \"The most popular promo code (by total saves) is:\",\n",
    "    discounts.loc[discounts[\"discount\"].idxmax()][\"name\"],\n",
    "    \"\\nWith\", int(discounts[\"discount\"].max()), \"total saves\"\n",
    ")\n",
    "\n",
    "## There is probably an easier way to manipulate data since we DO have promo code names in df_total\n",
    "## But, unfortunatelly pandas.DataFrame.agg documentations is showing only basic functionality\n",
    "## Not the best example of using python/pandas data structures, but I tried ¯\\_(ツ)_/¯"
   ]
  },
  {
   "cell_type": "markdown",
   "metadata": {},
   "source": [
    "## Задача 2\n",
    "Яндекс.Еда осуществляет доставку еды из ресторанов. При этом у каждого ресторана есть зона, в рамках которой осуществляется доставка. Зона представляет собой полигон из координат. Пользователь в зависимости от своей координаты видит разное количество доступных ресторанов. Нам важно, чтобы у каждого пользователя было достаточное количество ресторанов для выбора. Задача заключается в том, чтобы по каждой координате пользователя посчитать доступное ему количество ресторанов. Можно использовать SQL или Python.\n",
    "\n",
    "Данные, которые есть (для простоты в формате .txt, несколько первых строк): <br>\n",
    "<b>user_coordinates.txt</b> (примерно 300 тыс строк, user_id – идентификатор пользователя) <br>\n",
    "<b>place_zone_coordinates</b> (примерно 500 тыс строк, place_id – идентификатор ресторана, point_number – порядковый номер точки в зоне доставки ресторана) "
   ]
  },
  {
   "cell_type": "code",
   "execution_count": null,
   "metadata": {},
   "outputs": [],
   "source": []
  },
  {
   "cell_type": "markdown",
   "metadata": {},
   "source": [
    "## Задача 3\n",
    "Мы в Яндекс.Еде любим поиграть в покер и настольные игры. Поэтому нам важно, чтобы будущие коллеги были сильны в математической статистике и теории вероятностей (так интереснее играть))) Если серьезно, то в большинстве аналитических задач у нас возникает необходимость применять математический аппарат в том или ином виде. Проще всего его проверить через учебные игровые задачи, чтобы не погружать в сложный контекст бизнеса.\n",
    "Вы подбрасываете кубик (6 граней), после чего у вас есть две возможности:\n",
    "1. Взять себе сумму \\\\$, равную выпавшему на кубике числу (выпало 3 – получаете 3\\\\$)\n",
    "2. Отклонить результат первого броска и подбросить кубик второй раз. После чего уже взять себе столько \\\\$, сколько выпало во второй раз (второй бросок отклонять уже нельзя)\n",
    "Какую стратегию нужно выбрать, чтобы максимизировать ожидаемую прибыль (при каких значениях первого броска нужно перебрасывать?)<br> \n",
    "Почему эта стратегия максимизирует прибыль? <br>\n",
    "Чему равна ожидаемая прибыль при этой стратегии (**математическое ожидание**)?\n"
   ]
  },
  {
   "cell_type": "code",
   "execution_count": null,
   "metadata": {},
   "outputs": [],
   "source": []
  }
 ],
 "metadata": {
  "kernelspec": {
   "display_name": "Python 3",
   "language": "python",
   "name": "python3"
  },
  "language_info": {
   "codemirror_mode": {
    "name": "ipython",
    "version": 3
   },
   "file_extension": ".py",
   "mimetype": "text/x-python",
   "name": "python",
   "nbconvert_exporter": "python",
   "pygments_lexer": "ipython3",
   "version": "3.7.3"
  }
 },
 "nbformat": 4,
 "nbformat_minor": 2
}
